{
 "cells": [
  {
   "cell_type": "markdown",
   "id": "376f038a-0205-4523-8858-c3c056da9df2",
   "metadata": {},
   "source": [
    "# __CSS Notes__\n",
    "***"
   ]
  },
  {
   "cell_type": "markdown",
   "id": "79a555be-64f0-444c-a5c8-9f5462444b83",
   "metadata": {},
   "source": [
    "## 1. What is CSS?\n",
    "***"
   ]
  },
  {
   "cell_type": "markdown",
   "id": "b50299c0-3df5-40df-a414-5120d7868b5c",
   "metadata": {},
   "source": [
    "CSS (Cascading Style Sheets) controls how an html website is presented through its layouts, fonts, colors, and overall appearence."
   ]
  },
  {
   "cell_type": "markdown",
   "id": "afe51f4c-ce27-45a8-8e25-32670f4a1271",
   "metadata": {},
   "source": [
    "### CSS Syntax"
   ]
  },
  {
   "cell_type": "markdown",
   "id": "8161eef5-d64a-4535-9a56-7ef9c8bb561a",
   "metadata": {},
   "source": [
    "A CSS rule:\n",
    "\n",
    "`h1{\n",
    "color: red;\n",
    "font-size: 10px;\n",
    "}`"
   ]
  },
  {
   "cell_type": "markdown",
   "id": "ad41fa13-c530-4734-a691-907f9ad95edf",
   "metadata": {},
   "source": [
    "Ex:\n",
    "1. The selector, h1, specifies which html element on the page\n",
    "2. Property, color and font-size, the style attribute you want to change\n",
    "3. Value, red and 10px, the value of the property"
   ]
  },
  {
   "cell_type": "markdown",
   "id": "357adb0e-2e2b-4f60-a88d-b864d2931df4",
   "metadata": {},
   "source": [
    "## 2. Adding CSS to HTML using External CSS\n",
    "***"
   ]
  },
  {
   "cell_type": "markdown",
   "id": "05d63238-ef3e-4c21-a2cf-b2bda1adfc39",
   "metadata": {},
   "source": [
    "### __External CSS__"
   ]
  },
  {
   "cell_type": "markdown",
   "id": "1b1b21fc-c475-46b4-a761-77f1f587ac4c",
   "metadata": {},
   "source": [
    "Uses an external .css file linked with the `<link>` tag"
   ]
  },
  {
   "cell_type": "markdown",
   "id": "c27103a8-167a-4906-a63b-61a8d02259f6",
   "metadata": {},
   "source": [
    "`<head>\n",
    "   <link rel=\"stylesheet\" href=\"styles.css\"\n",
    " </head>`"
   ]
  },
  {
   "cell_type": "markdown",
   "id": "25c16088-fcd1-4161-b6a8-8222426f072c",
   "metadata": {},
   "source": [
    "## 3. CSS Selector\n",
    "***"
   ]
  },
  {
   "cell_type": "markdown",
   "id": "1564fea4-1efa-4c37-922c-b0c8f83176ee",
   "metadata": {},
   "source": [
    "### __Element Selector__"
   ]
  },
  {
   "cell_type": "markdown",
   "id": "4f272d8e-6da5-4043-9747-e38a755cac63",
   "metadata": {},
   "source": [
    "Selects all elements of the same type"
   ]
  },
  {
   "cell_type": "markdown",
   "id": "19abdc6e-22ea-4ecb-aea4-5576c0cc4ab7",
   "metadata": {},
   "source": [
    "`h4 {\n",
    "  color: orange;\n",
    "}`"
   ]
  },
  {
   "cell_type": "markdown",
   "id": "562a10b2-659d-450a-8719-6b0685916c53",
   "metadata": {},
   "source": [
    "### __Class Selector__"
   ]
  },
  {
   "cell_type": "markdown",
   "id": "4226409e-c358-43b0-8794-dde97b87ede8",
   "metadata": {},
   "source": [
    "Selects elements with a specific attribute. Uses a . followed by the class name"
   ]
  },
  {
   "cell_type": "markdown",
   "id": "afd07c12-f547-43b7-8b5f-c9f26b29f565",
   "metadata": {},
   "source": [
    ".body {\n",
    "  font-color: blue;\n",
    "  }"
   ]
  },
  {
   "cell_type": "markdown",
   "id": "d306e526-22b3-4b9a-9cc7-9253533645f7",
   "metadata": {},
   "source": [
    "`<p class=\"body\">This is an intro paragraph.</p>`"
   ]
  },
  {
   "cell_type": "markdown",
   "id": "5dc6e60c-5297-44d9-bc40-e70929cb9e0f",
   "metadata": {},
   "source": [
    "### __ID Selector__"
   ]
  },
  {
   "cell_type": "markdown",
   "id": "7ffe3e07-0767-48e0-9811-7b6b336522bf",
   "metadata": {},
   "source": [
    "selects an element with a specific ID attribute. Uses a hash # followed by the ID name"
   ]
  },
  {
   "cell_type": "markdown",
   "id": "c6544497-a9a2-460f-912a-92e9032a7b35",
   "metadata": {},
   "source": [
    "`#home {\n",
    "width: 85%;\n",
    "}`"
   ]
  },
  {
   "cell_type": "markdown",
   "id": "97e1e900-dd42-42c2-b191-0a8520ef9d9c",
   "metadata": {},
   "source": [
    "An ID selector must be paired with creating the ID in an html file. An ID is used to create a specific html element, that further classify elements."
   ]
  },
  {
   "cell_type": "markdown",
   "id": "f574e998-0fad-414f-a87a-f2618ec3d9f2",
   "metadata": {},
   "source": [
    "`<div id=\"home\">This is the home page area.</div>`"
   ]
  },
  {
   "cell_type": "markdown",
   "id": "6cf02e25-0984-4793-b3ad-0b6c819254cb",
   "metadata": {},
   "source": [
    "### __Universal Selector__"
   ]
  },
  {
   "cell_type": "markdown",
   "id": "68aff2fe-c053-430b-ad82-fa9511b0e7ec",
   "metadata": {},
   "source": [
    "Selects all elements!"
   ]
  },
  {
   "cell_type": "markdown",
   "id": "7763a1b0-0947-43b8-8ccb-6f48b8274393",
   "metadata": {},
   "source": [
    "`* {\n",
    "    border: 5px solid white;\n",
    "    margin: 2px; \n",
    "}`"
   ]
  },
  {
   "cell_type": "markdown",
   "id": "6e04da32-7cb7-4b94-9b3b-83256012412b",
   "metadata": {},
   "source": [
    "### __Grouping Selectors__"
   ]
  },
  {
   "cell_type": "markdown",
   "id": "9aab6523-a583-4080-b7cf-af7ed156bab1",
   "metadata": {},
   "source": [
    "Applies the same style to multiple selectors"
   ]
  },
  {
   "cell_type": "markdown",
   "id": "6cced1b6-91b0-4727-abd4-4cc98292f5e6",
   "metadata": {},
   "source": [
    "`.body,h1,h2{\n",
    "  text-align:center; \n",
    "}`"
   ]
  },
  {
   "cell_type": "markdown",
   "id": "d203577e-0710-4dbc-8a73-d464aa2afef8",
   "metadata": {},
   "source": [
    "## 4. Common CSS Properties\n",
    "***"
   ]
  },
  {
   "cell_type": "markdown",
   "id": "095166ca-daa0-4eec-9445-9d99d1dd7458",
   "metadata": {},
   "source": [
    "### __Text Properties__"
   ]
  },
  {
   "cell_type": "markdown",
   "id": "3515f727-69b0-4e47-aeb7-f3f200f0a4aa",
   "metadata": {},
   "source": [
    "color: sets the color of a text"
   ]
  },
  {
   "cell_type": "markdown",
   "id": "f4ced902-4ee5-4e65-9a41-a5e7e3e65072",
   "metadata": {},
   "source": [
    "`p{\n",
    "  color: #333333;\n",
    "}`"
   ]
  },
  {
   "cell_type": "markdown",
   "id": "a0b78cef-99da-4f78-9c58-8284ca1550c8",
   "metadata": {},
   "source": [
    "font-size: sets the size of the font"
   ]
  },
  {
   "cell_type": "markdown",
   "id": "5508f950-44bc-48f1-bc42-67b4e39b676b",
   "metadata": {},
   "source": [
    "`p{\n",
    "  font-size: 10px;\n",
    "}`"
   ]
  },
  {
   "cell_type": "markdown",
   "id": "5572feb1-81a6-4a04-bf2c-4ad9aa31a888",
   "metadata": {},
   "source": [
    "font-family: specifies the font style"
   ]
  },
  {
   "cell_type": "markdown",
   "id": "d6a6cfb1-05fa-4348-87c2-0ab233e9fe23",
   "metadata": {},
   "source": [
    "`p{\n",
    "  font-family: Arial, times new-roman;\n",
    "}`"
   ]
  },
  {
   "cell_type": "markdown",
   "id": "9a04ce88-539c-41f2-bc14-4f2938753b74",
   "metadata": {},
   "source": [
    "font-weight: sets the weight (boldness)"
   ]
  },
  {
   "cell_type": "markdown",
   "id": "c39bd5ee-d8e0-4f45-8dca-be0e10e2b4b1",
   "metadata": {},
   "source": [
    "`p{\n",
    "  font-weight: bold;\n",
    "}`"
   ]
  },
  {
   "cell_type": "markdown",
   "id": "7e235988-73b1-4f2d-8dec-4b9ebf8f08fb",
   "metadata": {},
   "source": [
    "text-align: aligns the text horizontally."
   ]
  },
  {
   "cell_type": "markdown",
   "id": "117e93be-13da-4658-98ad-3b28478ebf07",
   "metadata": {},
   "source": [
    "`p{\n",
    "  text-align: center; \n",
    "}`"
   ]
  },
  {
   "cell_type": "markdown",
   "id": "44cbb889-b6a6-43ec-b77b-54a97ba54195",
   "metadata": {},
   "source": [
    "### __Background Properties__"
   ]
  },
  {
   "cell_type": "markdown",
   "id": "36b1aacb-e552-4cc4-a232-57b8b1bd6ed5",
   "metadata": {},
   "source": [
    "background-color: sets the background color of an element"
   ]
  },
  {
   "cell_type": "markdown",
   "id": "8a335e32-78ff-4d7f-9ce5-61c7e04c5ee5",
   "metadata": {},
   "source": [
    "`body{\n",
    "  background-color: orange; \n",
    "}`"
   ]
  },
  {
   "cell_type": "markdown",
   "id": "b991ea48-9b89-4441-8c9f-e1ab99362195",
   "metadata": {},
   "source": [
    "background-image: sets a background image for an element"
   ]
  },
  {
   "cell_type": "markdown",
   "id": "2edf107d-3318-44d0-9ca5-40bc59ff1b51",
   "metadata": {},
   "source": [
    "`body{\n",
    "  background-image: url('background.jpg');\n",
    "}`"
   ]
  },
  {
   "cell_type": "markdown",
   "id": "92d6d3c2-0cc9-4516-abb3-f95489d096b9",
   "metadata": {},
   "source": [
    "### __Box Model Properties__"
   ]
  },
  {
   "cell_type": "markdown",
   "id": "6f46d659-90c8-40f1-b5a4-9632b561e6af",
   "metadata": {},
   "source": [
    "The CSS box model (consisting of divs) consists of margins, borders, padding, and the content area. "
   ]
  },
  {
   "cell_type": "markdown",
   "id": "6ffb193c-1254-4bae-b200-0633e6287d0e",
   "metadata": {},
   "source": [
    "wdith and height: sets the size of the content area. "
   ]
  },
  {
   "cell_type": "markdown",
   "id": "9aa098ba-82f6-4b4a-9c8a-f26e1767d6bb",
   "metadata": {},
   "source": [
    "`div {\n",
    "  width: 100px;\n",
    "  height: 80px;\n",
    "}`"
   ]
  },
  {
   "cell_type": "markdown",
   "id": "9b831418-56a5-4dcd-992a-fe2eb964a1e2",
   "metadata": {},
   "source": [
    "padding: sets the space between the content and border"
   ]
  },
  {
   "cell_type": "markdown",
   "id": "9d6e041b-7473-42a1-92d2-adc6732aff24",
   "metadata": {},
   "source": [
    "`div {\n",
    "  padding: 5px;\n",
    "}`"
   ]
  },
  {
   "cell_type": "markdown",
   "id": "07cec855-8930-47e5-8216-2ec1a44a2d63",
   "metadata": {},
   "source": [
    "border: sets the border around an element"
   ]
  },
  {
   "cell_type": "markdown",
   "id": "55172987-5edf-4ac3-ba6a-f1132dd46581",
   "metadata": {},
   "source": [
    "`div {\n",
    "  border: 2px dashed black;\n",
    "}`"
   ]
  },
  {
   "cell_type": "markdown",
   "id": "038e0ced-2afc-4792-86b5-48da9aa918ce",
   "metadata": {},
   "source": [
    "margin: sets the space outside the border. "
   ]
  },
  {
   "cell_type": "markdown",
   "id": "7fbb9f7f-83b8-4e3d-a3e3-fd85c5e47c1c",
   "metadata": {},
   "source": [
    "`div {\n",
    "  margin: 20px; \n",
    "}`"
   ]
  },
  {
   "cell_type": "markdown",
   "id": "03625c15-d19b-4640-95cb-39996671b9c3",
   "metadata": {},
   "source": [
    "### __Display and Visibility__"
   ]
  },
  {
   "cell_type": "markdown",
   "id": "1aac8c0a-a734-404e-9e65-3425003a0511",
   "metadata": {},
   "source": [
    "display: sets the display behavior of an element"
   ]
  },
  {
   "cell_type": "markdown",
   "id": "795926ef-e198-4b48-9686-9361e682b75d",
   "metadata": {},
   "source": [
    "`.inline{\n",
    "  display: inline;\n",
    "}`"
   ]
  },
  {
   "cell_type": "markdown",
   "id": "5e9353d6-b468-4d7c-a902-66cb151ea06e",
   "metadata": {},
   "source": [
    "`.block{\n",
    "  display: block;\n",
    "}`"
   ]
  },
  {
   "cell_type": "markdown",
   "id": "c39a4838-30e2-48f0-a451-77e05c817966",
   "metadata": {},
   "source": [
    "`.none {\n",
    "  display: none; *(hides the element)\n",
    "}`"
   ]
  },
  {
   "cell_type": "markdown",
   "id": "3d242ab3-2f99-451e-8b9d-bb3e15ebcc05",
   "metadata": {},
   "source": [
    "visibility: controls the visibility of an element"
   ]
  },
  {
   "cell_type": "markdown",
   "id": "0fdc855f-91b1-4f29-822f-a2cf6896bcaa",
   "metadata": {},
   "source": [
    "`.invisible{\n",
    "  visibility: hidden *(element takes up space but is not visible)\n",
    "}`"
   ]
  },
  {
   "cell_type": "markdown",
   "id": "60f3310c-93fc-4ef6-b2a9-1aa31e67c097",
   "metadata": {},
   "source": [
    "## 5. CSS Flexbox"
   ]
  },
  {
   "cell_type": "markdown",
   "id": "33eebd1c-b773-4389-a6f7-96aad0b3744f",
   "metadata": {},
   "source": [
    "Flexbox is a layout mode in CSS designed to layout, align, and distribute space among items in a container more efficiently."
   ]
  },
  {
   "cell_type": "markdown",
   "id": "6fa74c91-a24b-4d5d-9742-ac548487f01f",
   "metadata": {},
   "source": [
    "### __Setting Up a Flex Container__"
   ]
  },
  {
   "cell_type": "markdown",
   "id": "cf5edc2c-106d-42b8-aeee-b2de0aa3514d",
   "metadata": {},
   "source": [
    "`.container {\n",
    "  display: flex;\n",
    "}`"
   ]
  },
  {
   "cell_type": "markdown",
   "id": "e6c56015-f7e4-4c77-8f9b-678665c64c06",
   "metadata": {},
   "source": [
    "### __Flex Direction__"
   ]
  },
  {
   "cell_type": "markdown",
   "id": "4e5ce42c-7fe6-4299-b19c-f366a0ec75c2",
   "metadata": {},
   "source": [
    "Specifies the driection that the items are displayed."
   ]
  },
  {
   "cell_type": "markdown",
   "id": "f004c394-22fb-42a7-a6d7-4772d1d2ab82",
   "metadata": {},
   "source": [
    "`.container {\n",
    "flex-direction: row; *(row-reverse, column, column-reverse)\n",
    "}`"
   ]
  },
  {
   "cell_type": "markdown",
   "id": "9dd9b9a6-752d-4cba-a26d-2318945ac97d",
   "metadata": {},
   "source": [
    "### __Justify Content__"
   ]
  },
  {
   "cell_type": "markdown",
   "id": "366b1c0d-772e-4966-8ad7-f1563e52e50f",
   "metadata": {},
   "source": [
    "Align items along the main axis"
   ]
  },
  {
   "cell_type": "markdown",
   "id": "b0405678-bfe7-4bce-b486-37fbfa928cfc",
   "metadata": {},
   "source": [
    "`.container {\n",
    "  justify-content: center; *(flex-start, flex-end, center, space-between, space-around)\n",
    "}`"
   ]
  },
  {
   "cell_type": "markdown",
   "id": "aaebc40a-e41a-4365-8440-7d1f826c61b0",
   "metadata": {},
   "source": [
    "### __Align Items__"
   ]
  },
  {
   "cell_type": "markdown",
   "id": "0f82b9c2-a8e2-48ce-a335-0737df210d3e",
   "metadata": {},
   "source": [
    "Aligns items along the cross axis"
   ]
  },
  {
   "cell_type": "markdown",
   "id": "454a6991-b239-48a0-8071-fd11f2337f46",
   "metadata": {},
   "source": [
    "`.container{\n",
    "  align-items: center; *(stretch, flex-start, flex-end, center, baseline)\n",
    "}`"
   ]
  },
  {
   "cell_type": "markdown",
   "id": "9c239de0-d8b1-4daa-ac5b-33a80ddf3ad2",
   "metadata": {},
   "source": [
    "### __Flex Wrap__"
   ]
  },
  {
   "cell_type": "markdown",
   "id": "a7f9526a-040d-462e-b783-f12e499719bc",
   "metadata": {},
   "source": [
    "Alows flex items to wrap onto multiple lines"
   ]
  },
  {
   "cell_type": "markdown",
   "id": "c25a4f4e-ad6d-453c-a5e5-4bf001f4ba64",
   "metadata": {},
   "source": [
    "`.container {\n",
    "  flex-wrap: wrap; *(nowrap, wrap-reverse)\n",
    "}`"
   ]
  },
  {
   "cell_type": "markdown",
   "id": "bc793576-0280-4905-9875-998b9264e139",
   "metadata": {},
   "source": [
    "### __Flex Item Properties__"
   ]
  },
  {
   "cell_type": "markdown",
   "id": "1f6f5396-c1de-477b-8289-7cefc93f041f",
   "metadata": {},
   "source": [
    "flex-grow: specifies how much a flex item will grow relative to the rest"
   ]
  },
  {
   "cell_type": "markdown",
   "id": "fb6d2b08-6c85-473f-b4cb-b3aff57b8808",
   "metadata": {},
   "source": [
    "`.item{\n",
    "  flex-grow: 0.5;\n",
    "}`"
   ]
  },
  {
   "cell_type": "markdown",
   "id": "195b1051-27a8-41ec-aec6-0c9eacd452ef",
   "metadata": {},
   "source": [
    "flex-shrink: specifies how much a flex item will shrink relative to the rest"
   ]
  },
  {
   "cell_type": "markdown",
   "id": "6199bf7b-8db3-497c-b453-a927f9beb2a1",
   "metadata": {},
   "source": [
    "`.item{\n",
    "  flex-shrink: 1;\n",
    "}`"
   ]
  },
  {
   "cell_type": "markdown",
   "id": "45f8eaba-d3a3-42e7-a9eb-cb3713666615",
   "metadata": {},
   "source": [
    "## __Example Flexbox Layout__"
   ]
  },
  {
   "cell_type": "markdown",
   "id": "1be4958b-88b9-412b-8b9f-7e492b248ef7",
   "metadata": {},
   "source": [
    "### __HTML__"
   ]
  },
  {
   "cell_type": "markdown",
   "id": "201844c5-9979-4c22-8419-45046d269300",
   "metadata": {},
   "source": [
    "`<div class=\"main\">\n",
    "  <div class=\"box\">Box 1</div>\n",
    "  <div class=\"box\">Box 2</div>\n",
    "  <div class=\"box\">Box 3</div>`"
   ]
  },
  {
   "cell_type": "markdown",
   "id": "83dfd289-3889-432d-bfe5-54ab7187a53d",
   "metadata": {},
   "source": [
    "### __CSS__"
   ]
  },
  {
   "cell_type": "markdown",
   "id": "a9100902-7c1b-4a5d-9e1c-08d309f82b55",
   "metadata": {},
   "source": [
    "`.main{\n",
    "  display: flex;\n",
    "  flex-direction: reverse-column; \n",
    "  justify-content: space-around; \n",
    "  align-items: center;\n",
    "  width: 80%;\n",
    "}`\n",
    "\n",
    "`.box{\n",
    "  background-color: violet; \n",
    "  padding: 5px;\n",
    "  margin: 10px;\n",
    "  flex: 0.5;\n",
    "}`"
   ]
  }
 ],
 "metadata": {
  "kernelspec": {
   "display_name": "Python 3 (ipykernel)",
   "language": "python",
   "name": "python3"
  },
  "language_info": {
   "codemirror_mode": {
    "name": "ipython",
    "version": 3
   },
   "file_extension": ".py",
   "mimetype": "text/x-python",
   "name": "python",
   "nbconvert_exporter": "python",
   "pygments_lexer": "ipython3",
   "version": "3.12.1"
  }
 },
 "nbformat": 4,
 "nbformat_minor": 5
}
